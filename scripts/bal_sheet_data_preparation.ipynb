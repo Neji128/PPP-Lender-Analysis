{
 "cells": [
  {
   "attachments": {},
   "cell_type": "markdown",
   "metadata": {},
   "source": [
    "# 1.0 Data preparation"
   ]
  },
  {
   "cell_type": "code",
   "execution_count": 1,
   "metadata": {},
   "outputs": [],
   "source": [
    "import numpy as np\n",
    "import pandas as pd\n",
    "import math\n",
    "import base64"
   ]
  },
  {
   "cell_type": "code",
   "execution_count": 2,
   "metadata": {},
   "outputs": [],
   "source": [
    "pd.set_option('display.max_rows', None)\n",
    "pd.set_option('display.max_columns', None)"
   ]
  },
  {
   "cell_type": "code",
   "execution_count": 3,
   "metadata": {},
   "outputs": [
    {
     "data": {
      "text/html": [
       "<div>\n",
       "<style scoped>\n",
       "    .dataframe tbody tr th:only-of-type {\n",
       "        vertical-align: middle;\n",
       "    }\n",
       "\n",
       "    .dataframe tbody tr th {\n",
       "        vertical-align: top;\n",
       "    }\n",
       "\n",
       "    .dataframe thead th {\n",
       "        text-align: right;\n",
       "    }\n",
       "</style>\n",
       "<table border=\"1\" class=\"dataframe\">\n",
       "  <thead>\n",
       "    <tr style=\"text-align: right;\">\n",
       "      <th></th>\n",
       "      <th>Unnamed: 0</th>\n",
       "      <th>CERT</th>\n",
       "      <th>ASSET</th>\n",
       "      <th>LIABEQ</th>\n",
       "      <th>LIAB</th>\n",
       "      <th>EQ</th>\n",
       "      <th>EQCS</th>\n",
       "      <th>EQPP</th>\n",
       "      <th>SUBLLPF</th>\n",
       "      <th>EQCTRSTX</th>\n",
       "    </tr>\n",
       "  </thead>\n",
       "  <tbody>\n",
       "    <tr>\n",
       "      <th>0</th>\n",
       "      <td>0</td>\n",
       "      <td>628.0</td>\n",
       "      <td>2.870383e+09</td>\n",
       "      <td>2.870383e+09</td>\n",
       "      <td>2.609122e+09</td>\n",
       "      <td>261192000.0</td>\n",
       "      <td>2028000.0</td>\n",
       "      <td>0.0</td>\n",
       "      <td>313000.0</td>\n",
       "      <td>0.0</td>\n",
       "    </tr>\n",
       "    <tr>\n",
       "      <th>1</th>\n",
       "      <td>1</td>\n",
       "      <td>3510.0</td>\n",
       "      <td>2.157008e+09</td>\n",
       "      <td>2.157008e+09</td>\n",
       "      <td>1.943133e+09</td>\n",
       "      <td>213865000.0</td>\n",
       "      <td>3020000.0</td>\n",
       "      <td>0.0</td>\n",
       "      <td>1937000.0</td>\n",
       "      <td>0.0</td>\n",
       "    </tr>\n",
       "    <tr>\n",
       "      <th>2</th>\n",
       "      <td>2</td>\n",
       "      <td>6384.0</td>\n",
       "      <td>4.574542e+08</td>\n",
       "      <td>4.574542e+08</td>\n",
       "      <td>4.111985e+08</td>\n",
       "      <td>46247139.0</td>\n",
       "      <td>240060.0</td>\n",
       "      <td>0.0</td>\n",
       "      <td>5450699.0</td>\n",
       "      <td>0.0</td>\n",
       "    </tr>\n",
       "    <tr>\n",
       "      <th>3</th>\n",
       "      <td>3</td>\n",
       "      <td>9846.0</td>\n",
       "      <td>4.880160e+08</td>\n",
       "      <td>4.880160e+08</td>\n",
       "      <td>4.232340e+08</td>\n",
       "      <td>64676000.0</td>\n",
       "      <td>24000.0</td>\n",
       "      <td>0.0</td>\n",
       "      <td>5156000.0</td>\n",
       "      <td>0.0</td>\n",
       "    </tr>\n",
       "    <tr>\n",
       "      <th>4</th>\n",
       "      <td>4</td>\n",
       "      <td>3511.0</td>\n",
       "      <td>1.750196e+09</td>\n",
       "      <td>1.750196e+09</td>\n",
       "      <td>1.580318e+09</td>\n",
       "      <td>169844000.0</td>\n",
       "      <td>519000.0</td>\n",
       "      <td>0.0</td>\n",
       "      <td>12454000.0</td>\n",
       "      <td>0.0</td>\n",
       "    </tr>\n",
       "  </tbody>\n",
       "</table>\n",
       "</div>"
      ],
      "text/plain": [
       "   Unnamed: 0    CERT         ASSET        LIABEQ          LIAB           EQ  \\\n",
       "0           0   628.0  2.870383e+09  2.870383e+09  2.609122e+09  261192000.0   \n",
       "1           1  3510.0  2.157008e+09  2.157008e+09  1.943133e+09  213865000.0   \n",
       "2           2  6384.0  4.574542e+08  4.574542e+08  4.111985e+08   46247139.0   \n",
       "3           3  9846.0  4.880160e+08  4.880160e+08  4.232340e+08   64676000.0   \n",
       "4           4  3511.0  1.750196e+09  1.750196e+09  1.580318e+09  169844000.0   \n",
       "\n",
       "        EQCS  EQPP     SUBLLPF  EQCTRSTX  \n",
       "0  2028000.0   0.0    313000.0       0.0  \n",
       "1  3020000.0   0.0   1937000.0       0.0  \n",
       "2   240060.0   0.0   5450699.0       0.0  \n",
       "3    24000.0   0.0   5156000.0       0.0  \n",
       "4   519000.0   0.0  12454000.0       0.0  "
      ]
     },
     "execution_count": 3,
     "metadata": {},
     "output_type": "execute_result"
    }
   ],
   "source": [
    "# Read the data file and take a look at the data\n",
    "df = pd.read_csv('../data/raw/bal_sheet_data/balance_sheet.csv')\n",
    "df.head()"
   ]
  },
  {
   "cell_type": "code",
   "execution_count": 4,
   "metadata": {},
   "outputs": [
    {
     "data": {
      "text/plain": [
       "Index(['Unnamed: 0', 'CERT', 'ASSET', 'LIABEQ', 'LIAB', 'EQ', 'EQCS', 'EQPP',\n",
       "       'SUBLLPF', 'EQCTRSTX'],\n",
       "      dtype='object')"
      ]
     },
     "execution_count": 4,
     "metadata": {},
     "output_type": "execute_result"
    }
   ],
   "source": [
    "df.columns"
   ]
  },
  {
   "cell_type": "code",
   "execution_count": 5,
   "metadata": {},
   "outputs": [],
   "source": [
    "df = df.drop(columns=[\"Unnamed: 0\"])"
   ]
  },
  {
   "cell_type": "code",
   "execution_count": 6,
   "metadata": {},
   "outputs": [
    {
     "data": {
      "text/plain": [
       "Index(['CERT', 'ASSET', 'LIABEQ', 'LIAB', 'EQ', 'EQCS', 'EQPP', 'SUBLLPF',\n",
       "       'EQCTRSTX'],\n",
       "      dtype='object')"
      ]
     },
     "execution_count": 6,
     "metadata": {},
     "output_type": "execute_result"
    }
   ],
   "source": [
    "# Rename column names with underscores\n",
    "# columns_dict = {\"\":\"\",\n",
    "#                \"\":\"\"\n",
    "#               }\n",
    "# df = df.rename(columns=columns_dict)\n",
    "df.columns"
   ]
  },
  {
   "cell_type": "code",
   "execution_count": 7,
   "metadata": {},
   "outputs": [
    {
     "data": {
      "text/html": [
       "<div>\n",
       "<style scoped>\n",
       "    .dataframe tbody tr th:only-of-type {\n",
       "        vertical-align: middle;\n",
       "    }\n",
       "\n",
       "    .dataframe tbody tr th {\n",
       "        vertical-align: top;\n",
       "    }\n",
       "\n",
       "    .dataframe thead th {\n",
       "        text-align: right;\n",
       "    }\n",
       "</style>\n",
       "<table border=\"1\" class=\"dataframe\">\n",
       "  <thead>\n",
       "    <tr style=\"text-align: right;\">\n",
       "      <th></th>\n",
       "      <th>CERT</th>\n",
       "      <th>ASSET</th>\n",
       "      <th>LIABEQ</th>\n",
       "      <th>LIAB</th>\n",
       "      <th>EQ</th>\n",
       "      <th>EQCS</th>\n",
       "      <th>EQPP</th>\n",
       "      <th>SUBLLPF</th>\n",
       "      <th>EQCTRSTX</th>\n",
       "    </tr>\n",
       "  </thead>\n",
       "  <tbody>\n",
       "    <tr>\n",
       "      <th>0</th>\n",
       "      <td>628.0</td>\n",
       "      <td>2.870383e+09</td>\n",
       "      <td>2.870383e+09</td>\n",
       "      <td>2.609122e+09</td>\n",
       "      <td>261192000.0</td>\n",
       "      <td>2028000.0</td>\n",
       "      <td>0.0</td>\n",
       "      <td>313000.0</td>\n",
       "      <td>0.0</td>\n",
       "    </tr>\n",
       "    <tr>\n",
       "      <th>1</th>\n",
       "      <td>3510.0</td>\n",
       "      <td>2.157008e+09</td>\n",
       "      <td>2.157008e+09</td>\n",
       "      <td>1.943133e+09</td>\n",
       "      <td>213865000.0</td>\n",
       "      <td>3020000.0</td>\n",
       "      <td>0.0</td>\n",
       "      <td>1937000.0</td>\n",
       "      <td>0.0</td>\n",
       "    </tr>\n",
       "    <tr>\n",
       "      <th>2</th>\n",
       "      <td>6384.0</td>\n",
       "      <td>4.574542e+08</td>\n",
       "      <td>4.574542e+08</td>\n",
       "      <td>4.111985e+08</td>\n",
       "      <td>46247139.0</td>\n",
       "      <td>240060.0</td>\n",
       "      <td>0.0</td>\n",
       "      <td>5450699.0</td>\n",
       "      <td>0.0</td>\n",
       "    </tr>\n",
       "    <tr>\n",
       "      <th>3</th>\n",
       "      <td>9846.0</td>\n",
       "      <td>4.880160e+08</td>\n",
       "      <td>4.880160e+08</td>\n",
       "      <td>4.232340e+08</td>\n",
       "      <td>64676000.0</td>\n",
       "      <td>24000.0</td>\n",
       "      <td>0.0</td>\n",
       "      <td>5156000.0</td>\n",
       "      <td>0.0</td>\n",
       "    </tr>\n",
       "    <tr>\n",
       "      <th>4</th>\n",
       "      <td>3511.0</td>\n",
       "      <td>1.750196e+09</td>\n",
       "      <td>1.750196e+09</td>\n",
       "      <td>1.580318e+09</td>\n",
       "      <td>169844000.0</td>\n",
       "      <td>519000.0</td>\n",
       "      <td>0.0</td>\n",
       "      <td>12454000.0</td>\n",
       "      <td>0.0</td>\n",
       "    </tr>\n",
       "  </tbody>\n",
       "</table>\n",
       "</div>"
      ],
      "text/plain": [
       "     CERT         ASSET        LIABEQ          LIAB           EQ       EQCS  \\\n",
       "0   628.0  2.870383e+09  2.870383e+09  2.609122e+09  261192000.0  2028000.0   \n",
       "1  3510.0  2.157008e+09  2.157008e+09  1.943133e+09  213865000.0  3020000.0   \n",
       "2  6384.0  4.574542e+08  4.574542e+08  4.111985e+08   46247139.0   240060.0   \n",
       "3  9846.0  4.880160e+08  4.880160e+08  4.232340e+08   64676000.0    24000.0   \n",
       "4  3511.0  1.750196e+09  1.750196e+09  1.580318e+09  169844000.0   519000.0   \n",
       "\n",
       "   EQPP     SUBLLPF  EQCTRSTX  \n",
       "0   0.0    313000.0       0.0  \n",
       "1   0.0   1937000.0       0.0  \n",
       "2   0.0   5450699.0       0.0  \n",
       "3   0.0   5156000.0       0.0  \n",
       "4   0.0  12454000.0       0.0  "
      ]
     },
     "execution_count": 7,
     "metadata": {},
     "output_type": "execute_result"
    }
   ],
   "source": [
    "df.head()"
   ]
  },
  {
   "cell_type": "code",
   "execution_count": 8,
   "metadata": {},
   "outputs": [
    {
     "data": {
      "text/plain": [
       "[]"
      ]
     },
     "execution_count": 8,
     "metadata": {},
     "output_type": "execute_result"
    }
   ],
   "source": [
    "strings = list(df.dtypes[df.dtypes == 'object'].index)\n",
    "strings"
   ]
  },
  {
   "cell_type": "code",
   "execution_count": 9,
   "metadata": {},
   "outputs": [
    {
     "data": {
      "text/plain": [
       "CERT        0\n",
       "ASSET       0\n",
       "LIABEQ      0\n",
       "LIAB        0\n",
       "EQ          0\n",
       "EQCS        0\n",
       "EQPP        0\n",
       "SUBLLPF     0\n",
       "EQCTRSTX    0\n",
       "dtype: int64"
      ]
     },
     "execution_count": 9,
     "metadata": {},
     "output_type": "execute_result"
    }
   ],
   "source": [
    "df.isnull().sum()"
   ]
  },
  {
   "cell_type": "code",
   "execution_count": 11,
   "metadata": {},
   "outputs": [],
   "source": [
    "df.to_csv('../data/cleaned/bal_sheet_data/bal_sheet_data.csv', encoding=\"utf-8\")"
   ]
  }
 ],
 "metadata": {
  "kernelspec": {
   "display_name": "Python 3",
   "language": "python",
   "name": "python3"
  },
  "language_info": {
   "codemirror_mode": {
    "name": "ipython",
    "version": 3
   },
   "file_extension": ".py",
   "mimetype": "text/x-python",
   "name": "python",
   "nbconvert_exporter": "python",
   "pygments_lexer": "ipython3",
   "version": "3.10.11"
  },
  "orig_nbformat": 4
 },
 "nbformat": 4,
 "nbformat_minor": 2
}
