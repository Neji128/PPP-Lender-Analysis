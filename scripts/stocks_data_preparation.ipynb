{
 "cells": [
  {
   "attachments": {},
   "cell_type": "markdown",
   "metadata": {},
   "source": [
    "# 1.0 Data preparation"
   ]
  },
  {
   "cell_type": "code",
   "execution_count": 1,
   "metadata": {},
   "outputs": [],
   "source": [
    "import numpy as np\n",
    "import pandas as pd\n",
    "import math\n",
    "import base64"
   ]
  },
  {
   "cell_type": "code",
   "execution_count": 2,
   "metadata": {},
   "outputs": [],
   "source": [
    "pd.set_option('display.max_rows', None)\n",
    "pd.set_option('display.max_columns', None)"
   ]
  },
  {
   "cell_type": "code",
   "execution_count": 3,
   "metadata": {},
   "outputs": [
    {
     "data": {
      "text/html": [
       "<div>\n",
       "<style scoped>\n",
       "    .dataframe tbody tr th:only-of-type {\n",
       "        vertical-align: middle;\n",
       "    }\n",
       "\n",
       "    .dataframe tbody tr th {\n",
       "        vertical-align: top;\n",
       "    }\n",
       "\n",
       "    .dataframe thead th {\n",
       "        text-align: right;\n",
       "    }\n",
       "</style>\n",
       "<table border=\"1\" class=\"dataframe\">\n",
       "  <thead>\n",
       "    <tr style=\"text-align: right;\">\n",
       "      <th></th>\n",
       "      <th>Unnamed: 0</th>\n",
       "      <th>Date</th>\n",
       "      <th>Open</th>\n",
       "      <th>High</th>\n",
       "      <th>Low</th>\n",
       "      <th>Close</th>\n",
       "      <th>Volume</th>\n",
       "      <th>Dividends</th>\n",
       "      <th>Stock Splits</th>\n",
       "      <th>symbol</th>\n",
       "    </tr>\n",
       "  </thead>\n",
       "  <tbody>\n",
       "    <tr>\n",
       "      <th>0</th>\n",
       "      <td>0</td>\n",
       "      <td>2022-03-01 00:00:00-05:00</td>\n",
       "      <td>57.610421</td>\n",
       "      <td>57.817248</td>\n",
       "      <td>54.028574</td>\n",
       "      <td>54.667854</td>\n",
       "      <td>8964000</td>\n",
       "      <td>0.0</td>\n",
       "      <td>0.0</td>\n",
       "      <td>TFC</td>\n",
       "    </tr>\n",
       "    <tr>\n",
       "      <th>1</th>\n",
       "      <td>1</td>\n",
       "      <td>2022-03-02 00:00:00-05:00</td>\n",
       "      <td>55.523362</td>\n",
       "      <td>57.572819</td>\n",
       "      <td>55.325935</td>\n",
       "      <td>57.055752</td>\n",
       "      <td>6482900</td>\n",
       "      <td>0.0</td>\n",
       "      <td>0.0</td>\n",
       "      <td>TFC</td>\n",
       "    </tr>\n",
       "    <tr>\n",
       "      <th>2</th>\n",
       "      <td>2</td>\n",
       "      <td>2022-03-03 00:00:00-05:00</td>\n",
       "      <td>57.337791</td>\n",
       "      <td>57.601023</td>\n",
       "      <td>56.143841</td>\n",
       "      <td>56.924137</td>\n",
       "      <td>4755600</td>\n",
       "      <td>0.0</td>\n",
       "      <td>0.0</td>\n",
       "      <td>TFC</td>\n",
       "    </tr>\n",
       "    <tr>\n",
       "      <th>3</th>\n",
       "      <td>3</td>\n",
       "      <td>2022-03-04 00:00:00-05:00</td>\n",
       "      <td>55.325934</td>\n",
       "      <td>55.673781</td>\n",
       "      <td>54.846476</td>\n",
       "      <td>55.429348</td>\n",
       "      <td>8031300</td>\n",
       "      <td>0.0</td>\n",
       "      <td>0.0</td>\n",
       "      <td>TFC</td>\n",
       "    </tr>\n",
       "    <tr>\n",
       "      <th>4</th>\n",
       "      <td>4</td>\n",
       "      <td>2022-03-07 00:00:00-05:00</td>\n",
       "      <td>55.034501</td>\n",
       "      <td>55.325935</td>\n",
       "      <td>52.825222</td>\n",
       "      <td>52.862827</td>\n",
       "      <td>8460000</td>\n",
       "      <td>0.0</td>\n",
       "      <td>0.0</td>\n",
       "      <td>TFC</td>\n",
       "    </tr>\n",
       "  </tbody>\n",
       "</table>\n",
       "</div>"
      ],
      "text/plain": [
       "   Unnamed: 0                       Date       Open       High        Low  \\\n",
       "0           0  2022-03-01 00:00:00-05:00  57.610421  57.817248  54.028574   \n",
       "1           1  2022-03-02 00:00:00-05:00  55.523362  57.572819  55.325935   \n",
       "2           2  2022-03-03 00:00:00-05:00  57.337791  57.601023  56.143841   \n",
       "3           3  2022-03-04 00:00:00-05:00  55.325934  55.673781  54.846476   \n",
       "4           4  2022-03-07 00:00:00-05:00  55.034501  55.325935  52.825222   \n",
       "\n",
       "       Close   Volume  Dividends  Stock Splits symbol  \n",
       "0  54.667854  8964000        0.0           0.0    TFC  \n",
       "1  57.055752  6482900        0.0           0.0    TFC  \n",
       "2  56.924137  4755600        0.0           0.0    TFC  \n",
       "3  55.429348  8031300        0.0           0.0    TFC  \n",
       "4  52.862827  8460000        0.0           0.0    TFC  "
      ]
     },
     "execution_count": 3,
     "metadata": {},
     "output_type": "execute_result"
    }
   ],
   "source": [
    "# Read the data file and take a look at the data\n",
    "df = pd.read_csv('../data/raw/stocks_data/stocks.csv')\n",
    "df.head()"
   ]
  },
  {
   "cell_type": "code",
   "execution_count": 4,
   "metadata": {},
   "outputs": [
    {
     "data": {
      "text/plain": [
       "Index(['Unnamed: 0', 'Date', 'Open', 'High', 'Low', 'Close', 'Volume',\n",
       "       'Dividends', 'Stock Splits', 'symbol'],\n",
       "      dtype='object')"
      ]
     },
     "execution_count": 4,
     "metadata": {},
     "output_type": "execute_result"
    }
   ],
   "source": [
    "df.columns"
   ]
  },
  {
   "cell_type": "code",
   "execution_count": 5,
   "metadata": {},
   "outputs": [],
   "source": [
    "df = df.drop(columns=[\"Unnamed: 0\"])"
   ]
  },
  {
   "cell_type": "code",
   "execution_count": 6,
   "metadata": {},
   "outputs": [
    {
     "data": {
      "text/plain": [
       "Index(['Date', 'Open', 'High', 'Low', 'Close', 'Volume', 'Dividends',\n",
       "       'Stock_Splits', 'Symbol'],\n",
       "      dtype='object')"
      ]
     },
     "execution_count": 6,
     "metadata": {},
     "output_type": "execute_result"
    }
   ],
   "source": [
    "# Rename column names with underscores\n",
    "columns_dict = {\"Stock Splits\":\"Stock_Splits\",\n",
    "               \"symbol\":\"Symbol\"\n",
    "              }\n",
    "df = df.rename(columns=columns_dict)\n",
    "df.columns"
   ]
  },
  {
   "cell_type": "code",
   "execution_count": 7,
   "metadata": {},
   "outputs": [
    {
     "data": {
      "text/html": [
       "<div>\n",
       "<style scoped>\n",
       "    .dataframe tbody tr th:only-of-type {\n",
       "        vertical-align: middle;\n",
       "    }\n",
       "\n",
       "    .dataframe tbody tr th {\n",
       "        vertical-align: top;\n",
       "    }\n",
       "\n",
       "    .dataframe thead th {\n",
       "        text-align: right;\n",
       "    }\n",
       "</style>\n",
       "<table border=\"1\" class=\"dataframe\">\n",
       "  <thead>\n",
       "    <tr style=\"text-align: right;\">\n",
       "      <th></th>\n",
       "      <th>Date</th>\n",
       "      <th>Open</th>\n",
       "      <th>High</th>\n",
       "      <th>Low</th>\n",
       "      <th>Close</th>\n",
       "      <th>Volume</th>\n",
       "      <th>Dividends</th>\n",
       "      <th>Stock_Splits</th>\n",
       "      <th>Symbol</th>\n",
       "    </tr>\n",
       "  </thead>\n",
       "  <tbody>\n",
       "    <tr>\n",
       "      <th>0</th>\n",
       "      <td>2022-03-01 00:00:00-05:00</td>\n",
       "      <td>57.610421</td>\n",
       "      <td>57.817248</td>\n",
       "      <td>54.028574</td>\n",
       "      <td>54.667854</td>\n",
       "      <td>8964000</td>\n",
       "      <td>0.0</td>\n",
       "      <td>0.0</td>\n",
       "      <td>TFC</td>\n",
       "    </tr>\n",
       "    <tr>\n",
       "      <th>1</th>\n",
       "      <td>2022-03-02 00:00:00-05:00</td>\n",
       "      <td>55.523362</td>\n",
       "      <td>57.572819</td>\n",
       "      <td>55.325935</td>\n",
       "      <td>57.055752</td>\n",
       "      <td>6482900</td>\n",
       "      <td>0.0</td>\n",
       "      <td>0.0</td>\n",
       "      <td>TFC</td>\n",
       "    </tr>\n",
       "    <tr>\n",
       "      <th>2</th>\n",
       "      <td>2022-03-03 00:00:00-05:00</td>\n",
       "      <td>57.337791</td>\n",
       "      <td>57.601023</td>\n",
       "      <td>56.143841</td>\n",
       "      <td>56.924137</td>\n",
       "      <td>4755600</td>\n",
       "      <td>0.0</td>\n",
       "      <td>0.0</td>\n",
       "      <td>TFC</td>\n",
       "    </tr>\n",
       "    <tr>\n",
       "      <th>3</th>\n",
       "      <td>2022-03-04 00:00:00-05:00</td>\n",
       "      <td>55.325934</td>\n",
       "      <td>55.673781</td>\n",
       "      <td>54.846476</td>\n",
       "      <td>55.429348</td>\n",
       "      <td>8031300</td>\n",
       "      <td>0.0</td>\n",
       "      <td>0.0</td>\n",
       "      <td>TFC</td>\n",
       "    </tr>\n",
       "    <tr>\n",
       "      <th>4</th>\n",
       "      <td>2022-03-07 00:00:00-05:00</td>\n",
       "      <td>55.034501</td>\n",
       "      <td>55.325935</td>\n",
       "      <td>52.825222</td>\n",
       "      <td>52.862827</td>\n",
       "      <td>8460000</td>\n",
       "      <td>0.0</td>\n",
       "      <td>0.0</td>\n",
       "      <td>TFC</td>\n",
       "    </tr>\n",
       "  </tbody>\n",
       "</table>\n",
       "</div>"
      ],
      "text/plain": [
       "                        Date       Open       High        Low      Close  \\\n",
       "0  2022-03-01 00:00:00-05:00  57.610421  57.817248  54.028574  54.667854   \n",
       "1  2022-03-02 00:00:00-05:00  55.523362  57.572819  55.325935  57.055752   \n",
       "2  2022-03-03 00:00:00-05:00  57.337791  57.601023  56.143841  56.924137   \n",
       "3  2022-03-04 00:00:00-05:00  55.325934  55.673781  54.846476  55.429348   \n",
       "4  2022-03-07 00:00:00-05:00  55.034501  55.325935  52.825222  52.862827   \n",
       "\n",
       "    Volume  Dividends  Stock_Splits Symbol  \n",
       "0  8964000        0.0           0.0    TFC  \n",
       "1  6482900        0.0           0.0    TFC  \n",
       "2  4755600        0.0           0.0    TFC  \n",
       "3  8031300        0.0           0.0    TFC  \n",
       "4  8460000        0.0           0.0    TFC  "
      ]
     },
     "execution_count": 7,
     "metadata": {},
     "output_type": "execute_result"
    }
   ],
   "source": [
    "df.head()"
   ]
  },
  {
   "cell_type": "code",
   "execution_count": 8,
   "metadata": {},
   "outputs": [
    {
     "data": {
      "text/plain": [
       "['Date', 'Symbol']"
      ]
     },
     "execution_count": 8,
     "metadata": {},
     "output_type": "execute_result"
    }
   ],
   "source": [
    "strings = list(df.dtypes[df.dtypes == 'object'].index)\n",
    "strings"
   ]
  },
  {
   "cell_type": "code",
   "execution_count": 9,
   "metadata": {},
   "outputs": [],
   "source": [
    "df['Symbol'] = df['Symbol'].str.upper()"
   ]
  },
  {
   "cell_type": "code",
   "execution_count": 10,
   "metadata": {},
   "outputs": [
    {
     "data": {
      "text/html": [
       "<div>\n",
       "<style scoped>\n",
       "    .dataframe tbody tr th:only-of-type {\n",
       "        vertical-align: middle;\n",
       "    }\n",
       "\n",
       "    .dataframe tbody tr th {\n",
       "        vertical-align: top;\n",
       "    }\n",
       "\n",
       "    .dataframe thead th {\n",
       "        text-align: right;\n",
       "    }\n",
       "</style>\n",
       "<table border=\"1\" class=\"dataframe\">\n",
       "  <thead>\n",
       "    <tr style=\"text-align: right;\">\n",
       "      <th></th>\n",
       "      <th>Date</th>\n",
       "      <th>Open</th>\n",
       "      <th>High</th>\n",
       "      <th>Low</th>\n",
       "      <th>Close</th>\n",
       "      <th>Volume</th>\n",
       "      <th>Dividends</th>\n",
       "      <th>Stock_Splits</th>\n",
       "      <th>Symbol</th>\n",
       "    </tr>\n",
       "  </thead>\n",
       "  <tbody>\n",
       "    <tr>\n",
       "      <th>0</th>\n",
       "      <td>2022-03-01 00:00:00-05:00</td>\n",
       "      <td>57.610421</td>\n",
       "      <td>57.817248</td>\n",
       "      <td>54.028574</td>\n",
       "      <td>54.667854</td>\n",
       "      <td>8964000</td>\n",
       "      <td>0.0</td>\n",
       "      <td>0.0</td>\n",
       "      <td>TFC</td>\n",
       "    </tr>\n",
       "    <tr>\n",
       "      <th>1</th>\n",
       "      <td>2022-03-02 00:00:00-05:00</td>\n",
       "      <td>55.523362</td>\n",
       "      <td>57.572819</td>\n",
       "      <td>55.325935</td>\n",
       "      <td>57.055752</td>\n",
       "      <td>6482900</td>\n",
       "      <td>0.0</td>\n",
       "      <td>0.0</td>\n",
       "      <td>TFC</td>\n",
       "    </tr>\n",
       "    <tr>\n",
       "      <th>2</th>\n",
       "      <td>2022-03-03 00:00:00-05:00</td>\n",
       "      <td>57.337791</td>\n",
       "      <td>57.601023</td>\n",
       "      <td>56.143841</td>\n",
       "      <td>56.924137</td>\n",
       "      <td>4755600</td>\n",
       "      <td>0.0</td>\n",
       "      <td>0.0</td>\n",
       "      <td>TFC</td>\n",
       "    </tr>\n",
       "    <tr>\n",
       "      <th>3</th>\n",
       "      <td>2022-03-04 00:00:00-05:00</td>\n",
       "      <td>55.325934</td>\n",
       "      <td>55.673781</td>\n",
       "      <td>54.846476</td>\n",
       "      <td>55.429348</td>\n",
       "      <td>8031300</td>\n",
       "      <td>0.0</td>\n",
       "      <td>0.0</td>\n",
       "      <td>TFC</td>\n",
       "    </tr>\n",
       "    <tr>\n",
       "      <th>4</th>\n",
       "      <td>2022-03-07 00:00:00-05:00</td>\n",
       "      <td>55.034501</td>\n",
       "      <td>55.325935</td>\n",
       "      <td>52.825222</td>\n",
       "      <td>52.862827</td>\n",
       "      <td>8460000</td>\n",
       "      <td>0.0</td>\n",
       "      <td>0.0</td>\n",
       "      <td>TFC</td>\n",
       "    </tr>\n",
       "  </tbody>\n",
       "</table>\n",
       "</div>"
      ],
      "text/plain": [
       "                        Date       Open       High        Low      Close  \\\n",
       "0  2022-03-01 00:00:00-05:00  57.610421  57.817248  54.028574  54.667854   \n",
       "1  2022-03-02 00:00:00-05:00  55.523362  57.572819  55.325935  57.055752   \n",
       "2  2022-03-03 00:00:00-05:00  57.337791  57.601023  56.143841  56.924137   \n",
       "3  2022-03-04 00:00:00-05:00  55.325934  55.673781  54.846476  55.429348   \n",
       "4  2022-03-07 00:00:00-05:00  55.034501  55.325935  52.825222  52.862827   \n",
       "\n",
       "    Volume  Dividends  Stock_Splits Symbol  \n",
       "0  8964000        0.0           0.0    TFC  \n",
       "1  6482900        0.0           0.0    TFC  \n",
       "2  4755600        0.0           0.0    TFC  \n",
       "3  8031300        0.0           0.0    TFC  \n",
       "4  8460000        0.0           0.0    TFC  "
      ]
     },
     "execution_count": 10,
     "metadata": {},
     "output_type": "execute_result"
    }
   ],
   "source": [
    "df.head()"
   ]
  },
  {
   "cell_type": "code",
   "execution_count": 11,
   "metadata": {},
   "outputs": [
    {
     "data": {
      "text/plain": [
       "Date            0\n",
       "Open            0\n",
       "High            0\n",
       "Low             0\n",
       "Close           0\n",
       "Volume          0\n",
       "Dividends       0\n",
       "Stock_Splits    0\n",
       "Symbol          0\n",
       "dtype: int64"
      ]
     },
     "execution_count": 11,
     "metadata": {},
     "output_type": "execute_result"
    }
   ],
   "source": [
    "df.isnull().sum()"
   ]
  },
  {
   "cell_type": "code",
   "execution_count": 12,
   "metadata": {},
   "outputs": [
    {
     "data": {
      "text/html": [
       "<div>\n",
       "<style scoped>\n",
       "    .dataframe tbody tr th:only-of-type {\n",
       "        vertical-align: middle;\n",
       "    }\n",
       "\n",
       "    .dataframe tbody tr th {\n",
       "        vertical-align: top;\n",
       "    }\n",
       "\n",
       "    .dataframe thead th {\n",
       "        text-align: right;\n",
       "    }\n",
       "</style>\n",
       "<table border=\"1\" class=\"dataframe\">\n",
       "  <thead>\n",
       "    <tr style=\"text-align: right;\">\n",
       "      <th></th>\n",
       "      <th>Date</th>\n",
       "      <th>Open</th>\n",
       "      <th>High</th>\n",
       "      <th>Low</th>\n",
       "      <th>Close</th>\n",
       "      <th>Volume</th>\n",
       "      <th>Dividends</th>\n",
       "      <th>Stock_Splits</th>\n",
       "      <th>Symbol</th>\n",
       "    </tr>\n",
       "  </thead>\n",
       "  <tbody>\n",
       "    <tr>\n",
       "      <th>0</th>\n",
       "      <td>2022-03-01 00:00:00-05:00</td>\n",
       "      <td>57.610421</td>\n",
       "      <td>57.817248</td>\n",
       "      <td>54.028574</td>\n",
       "      <td>54.667854</td>\n",
       "      <td>8964000</td>\n",
       "      <td>0.0</td>\n",
       "      <td>0.0</td>\n",
       "      <td>TFC</td>\n",
       "    </tr>\n",
       "    <tr>\n",
       "      <th>1</th>\n",
       "      <td>2022-03-02 00:00:00-05:00</td>\n",
       "      <td>55.523362</td>\n",
       "      <td>57.572819</td>\n",
       "      <td>55.325935</td>\n",
       "      <td>57.055752</td>\n",
       "      <td>6482900</td>\n",
       "      <td>0.0</td>\n",
       "      <td>0.0</td>\n",
       "      <td>TFC</td>\n",
       "    </tr>\n",
       "    <tr>\n",
       "      <th>2</th>\n",
       "      <td>2022-03-03 00:00:00-05:00</td>\n",
       "      <td>57.337791</td>\n",
       "      <td>57.601023</td>\n",
       "      <td>56.143841</td>\n",
       "      <td>56.924137</td>\n",
       "      <td>4755600</td>\n",
       "      <td>0.0</td>\n",
       "      <td>0.0</td>\n",
       "      <td>TFC</td>\n",
       "    </tr>\n",
       "    <tr>\n",
       "      <th>3</th>\n",
       "      <td>2022-03-04 00:00:00-05:00</td>\n",
       "      <td>55.325934</td>\n",
       "      <td>55.673781</td>\n",
       "      <td>54.846476</td>\n",
       "      <td>55.429348</td>\n",
       "      <td>8031300</td>\n",
       "      <td>0.0</td>\n",
       "      <td>0.0</td>\n",
       "      <td>TFC</td>\n",
       "    </tr>\n",
       "    <tr>\n",
       "      <th>4</th>\n",
       "      <td>2022-03-07 00:00:00-05:00</td>\n",
       "      <td>55.034501</td>\n",
       "      <td>55.325935</td>\n",
       "      <td>52.825222</td>\n",
       "      <td>52.862827</td>\n",
       "      <td>8460000</td>\n",
       "      <td>0.0</td>\n",
       "      <td>0.0</td>\n",
       "      <td>TFC</td>\n",
       "    </tr>\n",
       "  </tbody>\n",
       "</table>\n",
       "</div>"
      ],
      "text/plain": [
       "                        Date       Open       High        Low      Close  \\\n",
       "0  2022-03-01 00:00:00-05:00  57.610421  57.817248  54.028574  54.667854   \n",
       "1  2022-03-02 00:00:00-05:00  55.523362  57.572819  55.325935  57.055752   \n",
       "2  2022-03-03 00:00:00-05:00  57.337791  57.601023  56.143841  56.924137   \n",
       "3  2022-03-04 00:00:00-05:00  55.325934  55.673781  54.846476  55.429348   \n",
       "4  2022-03-07 00:00:00-05:00  55.034501  55.325935  52.825222  52.862827   \n",
       "\n",
       "    Volume  Dividends  Stock_Splits Symbol  \n",
       "0  8964000        0.0           0.0    TFC  \n",
       "1  6482900        0.0           0.0    TFC  \n",
       "2  4755600        0.0           0.0    TFC  \n",
       "3  8031300        0.0           0.0    TFC  \n",
       "4  8460000        0.0           0.0    TFC  "
      ]
     },
     "execution_count": 12,
     "metadata": {},
     "output_type": "execute_result"
    }
   ],
   "source": [
    "df.head()"
   ]
  },
  {
   "cell_type": "code",
   "execution_count": 13,
   "metadata": {},
   "outputs": [],
   "source": [
    "df.to_csv('../data/cleaned/stocks_data/stocks_data.csv', encoding=\"utf-8\")"
   ]
  }
 ],
 "metadata": {
  "kernelspec": {
   "display_name": "Python 3",
   "language": "python",
   "name": "python3"
  },
  "language_info": {
   "codemirror_mode": {
    "name": "ipython",
    "version": 3
   },
   "file_extension": ".py",
   "mimetype": "text/x-python",
   "name": "python",
   "nbconvert_exporter": "python",
   "pygments_lexer": "ipython3",
   "version": "3.10.11"
  },
  "orig_nbformat": 4
 },
 "nbformat": 4,
 "nbformat_minor": 2
}
